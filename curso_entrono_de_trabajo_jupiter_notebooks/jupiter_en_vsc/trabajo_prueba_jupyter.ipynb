{
 "cells": [
  {
   "cell_type": "markdown",
   "id": "5d669f03",
   "metadata": {},
   "source": [
    "### Ejemplo: Análisis de consumo de combustible en carros\n",
    "##### En este ejercicio vamos a ver el consumo de los autos o marcas distintas que hay en esta libreria recordar que como estamos usando jupiter hay que importar y cargar la base de datos antes de usar los demas codigos que como tal son la logica con la cual traeremos los distintos casos que explicare en cada uno de los puntos.\n",
    "\n",
    "\n",
    "#### Importación de librerías"
   ]
  },
  {
   "cell_type": "code",
   "execution_count": 2,
   "id": "f66e16e5",
   "metadata": {},
   "outputs": [],
   "source": [
    "import pandas as pd\n",
    "import matplotlib.pyplot as plt\n",
    "from vega_datasets import data  # contiene datasets de ejemplo"
   ]
  },
  {
   "cell_type": "markdown",
   "id": "c4292490",
   "metadata": {},
   "source": [
    "#### Carga del dataset\n",
    "##### en la libreria de vega_dataset contiene una base de datos con datos de fabricacion de distintos autos a lo largo de los años y esta es la libreria que usaremos "
   ]
  },
  {
   "cell_type": "code",
   "execution_count": 3,
   "id": "15b16c64",
   "metadata": {},
   "outputs": [],
   "source": [
    "df = data.cars()"
   ]
  },
  {
   "cell_type": "markdown",
   "id": "047010be",
   "metadata": {},
   "source": [
    "#### En esta parte se mostrara solo 30 datos de la base de datos para ver que caracteristicas tienen cada uno de los vehiculos  "
   ]
  },
  {
   "cell_type": "code",
   "execution_count": 4,
   "id": "bda48ef1",
   "metadata": {},
   "outputs": [
    {
     "data": {
      "text/html": [
       "<div>\n",
       "<style scoped>\n",
       "    .dataframe tbody tr th:only-of-type {\n",
       "        vertical-align: middle;\n",
       "    }\n",
       "\n",
       "    .dataframe tbody tr th {\n",
       "        vertical-align: top;\n",
       "    }\n",
       "\n",
       "    .dataframe thead th {\n",
       "        text-align: right;\n",
       "    }\n",
       "</style>\n",
       "<table border=\"1\" class=\"dataframe\">\n",
       "  <thead>\n",
       "    <tr style=\"text-align: right;\">\n",
       "      <th></th>\n",
       "      <th>Name</th>\n",
       "      <th>Miles_per_Gallon</th>\n",
       "      <th>Cylinders</th>\n",
       "      <th>Displacement</th>\n",
       "      <th>Horsepower</th>\n",
       "      <th>Weight_in_lbs</th>\n",
       "      <th>Acceleration</th>\n",
       "      <th>Year</th>\n",
       "      <th>Origin</th>\n",
       "    </tr>\n",
       "  </thead>\n",
       "  <tbody>\n",
       "    <tr>\n",
       "      <th>0</th>\n",
       "      <td>chevrolet chevelle malibu</td>\n",
       "      <td>18.0</td>\n",
       "      <td>8</td>\n",
       "      <td>307.0</td>\n",
       "      <td>130.0</td>\n",
       "      <td>3504</td>\n",
       "      <td>12.0</td>\n",
       "      <td>1970-01-01</td>\n",
       "      <td>USA</td>\n",
       "    </tr>\n",
       "    <tr>\n",
       "      <th>1</th>\n",
       "      <td>buick skylark 320</td>\n",
       "      <td>15.0</td>\n",
       "      <td>8</td>\n",
       "      <td>350.0</td>\n",
       "      <td>165.0</td>\n",
       "      <td>3693</td>\n",
       "      <td>11.5</td>\n",
       "      <td>1970-01-01</td>\n",
       "      <td>USA</td>\n",
       "    </tr>\n",
       "    <tr>\n",
       "      <th>2</th>\n",
       "      <td>plymouth satellite</td>\n",
       "      <td>18.0</td>\n",
       "      <td>8</td>\n",
       "      <td>318.0</td>\n",
       "      <td>150.0</td>\n",
       "      <td>3436</td>\n",
       "      <td>11.0</td>\n",
       "      <td>1970-01-01</td>\n",
       "      <td>USA</td>\n",
       "    </tr>\n",
       "    <tr>\n",
       "      <th>3</th>\n",
       "      <td>amc rebel sst</td>\n",
       "      <td>16.0</td>\n",
       "      <td>8</td>\n",
       "      <td>304.0</td>\n",
       "      <td>150.0</td>\n",
       "      <td>3433</td>\n",
       "      <td>12.0</td>\n",
       "      <td>1970-01-01</td>\n",
       "      <td>USA</td>\n",
       "    </tr>\n",
       "    <tr>\n",
       "      <th>4</th>\n",
       "      <td>ford torino</td>\n",
       "      <td>17.0</td>\n",
       "      <td>8</td>\n",
       "      <td>302.0</td>\n",
       "      <td>140.0</td>\n",
       "      <td>3449</td>\n",
       "      <td>10.5</td>\n",
       "      <td>1970-01-01</td>\n",
       "      <td>USA</td>\n",
       "    </tr>\n",
       "    <tr>\n",
       "      <th>5</th>\n",
       "      <td>ford galaxie 500</td>\n",
       "      <td>15.0</td>\n",
       "      <td>8</td>\n",
       "      <td>429.0</td>\n",
       "      <td>198.0</td>\n",
       "      <td>4341</td>\n",
       "      <td>10.0</td>\n",
       "      <td>1970-01-01</td>\n",
       "      <td>USA</td>\n",
       "    </tr>\n",
       "    <tr>\n",
       "      <th>6</th>\n",
       "      <td>chevrolet impala</td>\n",
       "      <td>14.0</td>\n",
       "      <td>8</td>\n",
       "      <td>454.0</td>\n",
       "      <td>220.0</td>\n",
       "      <td>4354</td>\n",
       "      <td>9.0</td>\n",
       "      <td>1970-01-01</td>\n",
       "      <td>USA</td>\n",
       "    </tr>\n",
       "    <tr>\n",
       "      <th>7</th>\n",
       "      <td>plymouth fury iii</td>\n",
       "      <td>14.0</td>\n",
       "      <td>8</td>\n",
       "      <td>440.0</td>\n",
       "      <td>215.0</td>\n",
       "      <td>4312</td>\n",
       "      <td>8.5</td>\n",
       "      <td>1970-01-01</td>\n",
       "      <td>USA</td>\n",
       "    </tr>\n",
       "    <tr>\n",
       "      <th>8</th>\n",
       "      <td>pontiac catalina</td>\n",
       "      <td>14.0</td>\n",
       "      <td>8</td>\n",
       "      <td>455.0</td>\n",
       "      <td>225.0</td>\n",
       "      <td>4425</td>\n",
       "      <td>10.0</td>\n",
       "      <td>1970-01-01</td>\n",
       "      <td>USA</td>\n",
       "    </tr>\n",
       "    <tr>\n",
       "      <th>9</th>\n",
       "      <td>amc ambassador dpl</td>\n",
       "      <td>15.0</td>\n",
       "      <td>8</td>\n",
       "      <td>390.0</td>\n",
       "      <td>190.0</td>\n",
       "      <td>3850</td>\n",
       "      <td>8.5</td>\n",
       "      <td>1970-01-01</td>\n",
       "      <td>USA</td>\n",
       "    </tr>\n",
       "  </tbody>\n",
       "</table>\n",
       "</div>"
      ],
      "text/plain": [
       "                        Name  Miles_per_Gallon  Cylinders  Displacement  \\\n",
       "0  chevrolet chevelle malibu              18.0          8         307.0   \n",
       "1          buick skylark 320              15.0          8         350.0   \n",
       "2         plymouth satellite              18.0          8         318.0   \n",
       "3              amc rebel sst              16.0          8         304.0   \n",
       "4                ford torino              17.0          8         302.0   \n",
       "5           ford galaxie 500              15.0          8         429.0   \n",
       "6           chevrolet impala              14.0          8         454.0   \n",
       "7          plymouth fury iii              14.0          8         440.0   \n",
       "8           pontiac catalina              14.0          8         455.0   \n",
       "9         amc ambassador dpl              15.0          8         390.0   \n",
       "\n",
       "   Horsepower  Weight_in_lbs  Acceleration       Year Origin  \n",
       "0       130.0           3504          12.0 1970-01-01    USA  \n",
       "1       165.0           3693          11.5 1970-01-01    USA  \n",
       "2       150.0           3436          11.0 1970-01-01    USA  \n",
       "3       150.0           3433          12.0 1970-01-01    USA  \n",
       "4       140.0           3449          10.5 1970-01-01    USA  \n",
       "5       198.0           4341          10.0 1970-01-01    USA  \n",
       "6       220.0           4354           9.0 1970-01-01    USA  \n",
       "7       215.0           4312           8.5 1970-01-01    USA  \n",
       "8       225.0           4425          10.0 1970-01-01    USA  \n",
       "9       190.0           3850           8.5 1970-01-01    USA  "
      ]
     },
     "metadata": {},
     "output_type": "display_data"
    }
   ],
   "source": [
    "display(df.head(10))"
   ]
  },
  {
   "cell_type": "markdown",
   "id": "c9599736",
   "metadata": {},
   "source": [
    "#### aqui vemos el consumo promedio de los autos dependiendo de su pais de origen "
   ]
  },
  {
   "cell_type": "code",
   "execution_count": 9,
   "id": "60341755",
   "metadata": {},
   "outputs": [
    {
     "name": "stdout",
     "output_type": "stream",
     "text": [
      "Origin\n",
      "Japan     30.450633\n",
      "Europe    27.891429\n",
      "USA       20.083534\n",
      "Name: Miles_per_Gallon, dtype: float64\n"
     ]
    }
   ],
   "source": [
    "consumo_origen = df.groupby(\"Origin\")[\"Miles_per_Gallon\"].mean().sort_values(ascending=False)\n",
    "print(consumo_origen)"
   ]
  },
  {
   "cell_type": "markdown",
   "id": "6a9c1a9c",
   "metadata": {},
   "source": [
    "#### esta es una grafica de el mismo consumo por pais "
   ]
  },
  {
   "cell_type": "code",
   "execution_count": 29,
   "id": "f1fd46cc",
   "metadata": {},
   "outputs": [
    {
     "data": {
      "image/png": "[encoded data removed]",
      "text/plain": [
       "<Figure size 600x400 with 1 Axes>"
      ]
     },
     "metadata": {},
     "output_type": "display_data"
    }
   ],
   "source": [
    "consumo_origen.plot(kind=\"bar\", color=\"orange\", figsize=(6,4))\n",
    "plt.title(\"Consumo promedio (MPG) por origen de fabricación\")\n",
    "plt.ylabel(\"Millas por galón\")\n",
    "plt.xlabel(\"Origen\")\n",
    "plt.show()"
   ]
  },
  {
   "cell_type": "markdown",
   "id": "77f76621",
   "metadata": {},
   "source": [
    "#### Aqui se muestra el año promedio de fabricacion de todos los vehiculos en la base de datos "
   ]
  },
  {
   "cell_type": "code",
   "execution_count": 30,
   "id": "9bd7cf96",
   "metadata": {},
   "outputs": [
    {
     "name": "stdout",
     "output_type": "stream",
     "text": [
      "\n",
      "Año promedio de fabricación por origen:\n",
      "Origin\n",
      "USA      1975-07-21 11:03:18.425196864\n",
      "Europe   1975-10-23 06:54:14.794520544\n",
      "Japan    1977-08-05 21:52:24.303797472\n",
      "Name: Year, dtype: datetime64[ns]\n"
     ]
    }
   ],
   "source": [
    "anio_origen = df.groupby(\"Origin\")[\"Year\"].mean().sort_values()\n",
    "print(\"\\nAño promedio de fabricación por origen:\")\n",
    "print(anio_origen)"
   ]
  }
 ],
 "metadata": {
  "kernelspec": {
   "display_name": "venv (3.12.3)",
   "language": "python",
   "name": "python3"
  },
  "language_info": {
   "codemirror_mode": {
    "name": "ipython",
    "version": 3
   },
   "file_extension": ".py",
   "mimetype": "text/x-python",
   "name": "python",
   "nbconvert_exporter": "python",
   "pygments_lexer": "ipython3",
   "version": "3.12.3"
  }
 },
 "nbformat": 4,
 "nbformat_minor": 5
}
