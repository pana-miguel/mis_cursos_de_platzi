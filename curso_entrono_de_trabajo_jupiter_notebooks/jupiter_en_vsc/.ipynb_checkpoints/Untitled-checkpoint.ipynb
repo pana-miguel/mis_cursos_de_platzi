{
 "cells": [
  {
   "cell_type": "code",
   "execution_count": 1,
   "id": "2180394c-39cb-4e85-a645-b5db6a2a889c",
   "metadata": {},
   "outputs": [
    {
     "name": "stdout",
     "output_type": "stream",
     "text": [
      "hola mundo\n"
     ]
    }
   ],
   "source": [
    "print(\"hola mundo\")"
   ]
  },
  {
   "cell_type": "code",
   "execution_count": null,
   "id": "b34eeb96-ad01-4fa7-8967-c8db02899e6a",
   "metadata": {},
   "outputs": [],
   "source": []
  }
 ],
 "metadata": {
  "kernelspec": {
   "display_name": "Python 3 (ipykernel)",
   "language": "python",
   "name": "python3"
  },
  "language_info": {
   "codemirror_mode": {
    "name": "ipython",
    "version": 3
   },
   "file_extension": ".py",
   "mimetype": "text/x-python",
   "name": "python",
   "nbconvert_exporter": "python",
   "pygments_lexer": "ipython3",
   "version": "3.13.5"
  }
 },
 "nbformat": 4,
 "nbformat_minor": 5
}
