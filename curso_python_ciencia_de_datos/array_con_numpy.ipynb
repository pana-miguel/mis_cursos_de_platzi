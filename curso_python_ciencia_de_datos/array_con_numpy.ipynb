{
 "cells": [
  {
   "cell_type": "markdown",
   "id": "4a131e02",
   "metadata": {},
   "source": [
    "### listas y matrices creadas con la libreria de numpy\n",
    "##### aqui veremos algunos codigos que son la forma de crear o interpretar en python las listas y matrices "
   ]
  },
  {
   "cell_type": "code",
   "execution_count": 1,
   "id": "4b3c00e2",
   "metadata": {},
   "outputs": [],
   "source": [
    "import numpy as np # importamos numpy y en todos los siguientes ejercicios numpy se va a llamar np"
   ]
  },
  {
   "cell_type": "code",
   "execution_count": 2,
   "id": "50444808",
   "metadata": {},
   "outputs": [
    {
     "name": "stdout",
     "output_type": "stream",
     "text": [
      "<class 'numpy.ndarray'>\n",
      "42\n"
     ]
    }
   ],
   "source": [
    "escalar = np.array(42) # en este caso se crea una lista pero que solo almacena un numero el 42 en este caso \n",
    "print(type(escalar))\n",
    "print(escalar)"
   ]
  },
  {
   "cell_type": "code",
   "execution_count": 3,
   "id": "aa237d84",
   "metadata": {},
   "outputs": [
    {
     "name": "stdout",
     "output_type": "stream",
     "text": [
      "<class 'numpy.ndarray'>\n",
      "[30 29 25 42 40 36 20]\n"
     ]
    }
   ],
   "source": [
    "vector = np.array([30, 29, 25, 42, 40, 36, 20]) # en esta caso se crea una lista con numeros \n",
    "print(type(vector))\n",
    "print(vector)"
   ]
  },
  {
   "cell_type": "code",
   "execution_count": 4,
   "id": "1bede465",
   "metadata": {},
   "outputs": [
    {
     "name": "stdout",
     "output_type": "stream",
     "text": [
      "<class 'numpy.ndarray'>\n",
      "[[1 2 3]\n",
      " [4 5 6]\n",
      " [7 8 9]]\n"
     ]
    }
   ],
   "source": [
    "matriz = np.array([[1,2,3],[4,5,6],[7,8,9]]) # aqui creamos un array 3x3 en este caso con los numeros del 1 al 9\n",
    "print(type(matriz))\n",
    "print(matriz)"
   ]
  },
  {
   "cell_type": "code",
   "execution_count": 5,
   "id": "abd54554",
   "metadata": {},
   "outputs": [
    {
     "name": "stdout",
     "output_type": "stream",
     "text": [
      "[[[1 2]\n",
      "  [3 4]\n",
      "  [5 6]\n",
      "  [7 8]]]\n"
     ]
    }
   ],
   "source": [
    "tensor = np.array([[[1,2],[3,4],[5,6],[7,8]]]) # se crea un tensor 3d que esto es una lista de listas de listas \n",
    "print(tensor)"
   ]
  },
  {
   "cell_type": "code",
   "execution_count": 6,
   "id": "e70fae40",
   "metadata": {},
   "outputs": [
    {
     "name": "stdout",
     "output_type": "stream",
     "text": [
      "[0 1 2 3 4 5 6 7 8 9]\n"
     ]
    }
   ],
   "source": [
    "array_arange = np.arange(10) # el .arange sirve para crear un array con valores en un rango \n",
    "print(array_arange)"
   ]
  },
  {
   "cell_type": "code",
   "execution_count": 7,
   "id": "ecfc6c7e",
   "metadata": {},
   "outputs": [
    {
     "name": "stdout",
     "output_type": "stream",
     "text": [
      "[[1. 0. 0. 0. 0. 0.]\n",
      " [0. 1. 0. 0. 0. 0.]\n",
      " [0. 0. 1. 0. 0. 0.]\n",
      " [0. 0. 0. 1. 0. 0.]\n",
      " [0. 0. 0. 0. 1. 0.]\n",
      " [0. 0. 0. 0. 0. 1.]]\n"
     ]
    }
   ],
   "source": [
    "eye_matriz = np.eye(6) # esto imprime una matriz en este caso 6x6\n",
    "print(eye_matriz)"
   ]
  },
  {
   "cell_type": "code",
   "execution_count": 8,
   "id": "40d6b084",
   "metadata": {},
   "outputs": [
    {
     "name": "stdout",
     "output_type": "stream",
     "text": [
      "[[   1    0    0    0    0]\n",
      " [   0   45    0    0    0]\n",
      " [   0    0   67    0    0]\n",
      " [   0    0    0  333    0]\n",
      " [   0    0    0    0 4566]]\n"
     ]
    }
   ],
   "source": [
    "diag = np.diag([1,45,67,333,4566]) # aqui hacemos una matriz diagonal pero especificando nosotros los numeros que estan en la diagonal\n",
    "print(diag)"
   ]
  },
  {
   "cell_type": "code",
   "execution_count": 9,
   "id": "99c24a1a",
   "metadata": {},
   "outputs": [
    {
     "name": "stdout",
     "output_type": "stream",
     "text": [
      "[[0.04761908 0.81596879 0.21097431]\n",
      " [0.91971735 0.34029575 0.01612038]]\n"
     ]
    }
   ],
   "source": [
    "random = np.random.random((2,3)) # imprime numeros randoms en una matriz 3x2 entre numeros del 0 al 1\n",
    "print(random)"
   ]
  },
  {
   "cell_type": "code",
   "execution_count": 10,
   "id": "41e73d4f",
   "metadata": {},
   "outputs": [
    {
     "name": "stdout",
     "output_type": "stream",
     "text": [
      "[[9.45542551 8.64666312 6.56958489]\n",
      " [6.77200169 6.50131445 9.23315763]]\n"
     ]
    }
   ],
   "source": [
    "random = np.random.random((2,3))   # valores entre 0 y 1\n",
    "matriz = 5 + (10 - 5) * random     # escala al rango [5, 10]\n",
    "\n",
    "print(matriz)"
   ]
  }
 ],
 "metadata": {
  "kernelspec": {
   "display_name": "ciencia_datos_aplicada",
   "language": "python",
   "name": "python3"
  },
  "language_info": {
   "codemirror_mode": {
    "name": "ipython",
    "version": 3
   },
   "file_extension": ".py",
   "mimetype": "text/x-python",
   "name": "python",
   "nbconvert_exporter": "python",
   "pygments_lexer": "ipython3",
   "version": "3.13.5"
  }
 },
 "nbformat": 4,
 "nbformat_minor": 5
}
