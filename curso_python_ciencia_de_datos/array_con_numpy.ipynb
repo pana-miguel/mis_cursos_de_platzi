{
 "cells": [
  {
   "cell_type": "markdown",
   "id": "a07a08d1",
   "metadata": {},
   "source": [
    "### listas y matrices creadas con la libreria de numpy\n",
    "##### aqui veremos algunos codigos que son la forma de crear o interpretar en python las listas y matrices "
   ]
  },
  {
   "cell_type": "code",
   "execution_count": null,
   "id": "d45ffecf",
   "metadata": {},
   "outputs": [],
   "source": [
    "import numpy as np # importamos numpy y en todos los siguientes ejercicios numpy se va a llamar np"
   ]
  },
  {
   "cell_type": "code",
   "execution_count": null,
   "id": "07ad6e51",
   "metadata": {},
   "outputs": [
    {
     "name": "stdout",
     "output_type": "stream",
     "text": [
      "<class 'numpy.ndarray'>\n",
      "42\n"
     ]
    }
   ],
   "source": [
    "escalar = np.array(42) # en este caso se crea una lista pero que solo almacena un numero el 42 en este caso \n",
    "print(type(escalar))\n",
    "print(escalar)"
   ]
  },
  {
   "cell_type": "code",
   "execution_count": null,
   "id": "1218356b",
   "metadata": {},
   "outputs": [
    {
     "name": "stdout",
     "output_type": "stream",
     "text": [
      "<class 'numpy.ndarray'>\n",
      "[30 29 25 42 40 36 20]\n"
     ]
    }
   ],
   "source": [
    "vector = np.array([30, 29, 25, 42, 40, 36, 20]) # en esta caso se crea una lista con numeros \n",
    "print(type(vector))\n",
    "print(vector)"
   ]
  },
  {
   "cell_type": "code",
   "execution_count": null,
   "id": "c15bdb9a",
   "metadata": {},
   "outputs": [
    {
     "name": "stdout",
     "output_type": "stream",
     "text": [
      "<class 'numpy.ndarray'>\n",
      "[[1 2 3]\n",
      " [4 5 6]\n",
      " [7 8 9]]\n"
     ]
    }
   ],
   "source": [
    "matriz = np.array([[1,2,3],[4,5,6],[7,8,9]]) # aqui creamos un array 3x3 en este caso con los numeros del 1 al 9\n",
    "print(type(matriz))\n",
    "print(matriz)"
   ]
  },
  {
   "cell_type": "code",
   "execution_count": null,
   "id": "82081904",
   "metadata": {},
   "outputs": [
    {
     "name": "stdout",
     "output_type": "stream",
     "text": [
      "[[[1 2]\n",
      "  [3 4]\n",
      "  [5 6]\n",
      "  [7 8]]]\n"
     ]
    }
   ],
   "source": [
    "tensor = np.array([[[1,2],[3,4],[5,6],[7,8]]]) # se crea un tensor 3d que esto es una lista de listas de listas \n",
    "print(tensor)"
   ]
  },
  {
   "cell_type": "code",
   "execution_count": 6,
   "id": "0e571c6c",
   "metadata": {},
   "outputs": [
    {
     "name": "stdout",
     "output_type": "stream",
     "text": [
      "[0 1 2 3 4 5 6 7 8 9]\n"
     ]
    }
   ],
   "source": [
    "array_arange = np.arange(10) # el .arange sirve para crear un array con valores en un rango \n",
    "print(array_arange)"
   ]
  },
  {
   "cell_type": "code",
   "execution_count": 7,
   "id": "d313079e",
   "metadata": {},
   "outputs": [
    {
     "name": "stdout",
     "output_type": "stream",
     "text": [
      "[[1. 0. 0. 0. 0. 0.]\n",
      " [0. 1. 0. 0. 0. 0.]\n",
      " [0. 0. 1. 0. 0. 0.]\n",
      " [0. 0. 0. 1. 0. 0.]\n",
      " [0. 0. 0. 0. 1. 0.]\n",
      " [0. 0. 0. 0. 0. 1.]]\n"
     ]
    }
   ],
   "source": [
    "eye_matriz = np.eye(6) # esto imprime una matriz en este caso 6x6\n",
    "print(eye_matriz)"
   ]
  },
  {
   "cell_type": "code",
   "execution_count": 8,
   "id": "a5938992",
   "metadata": {},
   "outputs": [
    {
     "name": "stdout",
     "output_type": "stream",
     "text": [
      "[[   1    0    0    0    0]\n",
      " [   0   45    0    0    0]\n",
      " [   0    0   67    0    0]\n",
      " [   0    0    0  333    0]\n",
      " [   0    0    0    0 4566]]\n"
     ]
    }
   ],
   "source": [
    "diag = np.diag([1,45,67,333,4566]) # aqui hacemos una matriz diagonal pero especificando nosotros los numeros que estan en la diagonal\n",
    "print(diag)"
   ]
  },
  {
   "cell_type": "code",
   "execution_count": 9,
   "id": "38510c0d",
   "metadata": {},
   "outputs": [
    {
     "name": "stdout",
     "output_type": "stream",
     "text": [
      "[[0.29335151 0.8680471  0.35304473]\n",
      " [0.78741546 0.54423051 0.20323926]]\n"
     ]
    }
   ],
   "source": [
    "random = np.random.random((2,3)) # imprime numeros randoms en una matriz 3x2 entre numeros del 0 al 1\n",
    "print(random)"
   ]
  },
  {
   "cell_type": "code",
   "execution_count": 10,
   "id": "2d1503bd",
   "metadata": {},
   "outputs": [
    {
     "name": "stdout",
     "output_type": "stream",
     "text": [
      "[[5.61284922 8.58685314 6.59587541]\n",
      " [9.92900481 8.34146004 8.2112842 ]]\n"
     ]
    }
   ],
   "source": [
    "random = np.random.random((2,3))   # valores entre 0 y 1\n",
    "matriz = 5 + (10 - 5) * random     # escala al rango [5, 10]\n",
    "\n",
    "print(matriz)"
   ]
  }
 ],
 "metadata": {
  "kernelspec": {
   "display_name": "ciencia_datos_aplicada",
   "language": "python",
   "name": "python3"
  },
  "language_info": {
   "codemirror_mode": {
    "name": "ipython",
    "version": 3
   },
   "file_extension": ".py",
   "mimetype": "text/x-python",
   "name": "python",
   "nbconvert_exporter": "python",
   "pygments_lexer": "ipython3",
   "version": "3.13.5"
  }
 },
 "nbformat": 4,
 "nbformat_minor": 5
}
