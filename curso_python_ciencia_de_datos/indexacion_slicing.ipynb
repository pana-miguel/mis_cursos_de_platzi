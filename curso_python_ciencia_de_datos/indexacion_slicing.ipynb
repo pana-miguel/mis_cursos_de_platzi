{
 "cells": [
  {
   "cell_type": "markdown",
   "id": "6cac7d67",
   "metadata": {},
   "source": [
    "#### idexacion y slicing sirven para proporcionar una manera rapida y flexible para manejar los datos"
   ]
  },
  {
   "cell_type": "code",
   "execution_count": 1,
   "id": "698ac786",
   "metadata": {},
   "outputs": [],
   "source": [
    "import numpy as np  "
   ]
  },
  {
   "cell_type": "code",
   "execution_count": 2,
   "id": "cf714c81",
   "metadata": {},
   "outputs": [
    {
     "name": "stdout",
     "output_type": "stream",
     "text": [
      "40\n",
      "50\n"
     ]
    }
   ],
   "source": [
    "array = np.array([10, 20, 30, 40, 50])\n",
    "print(array[3]) # accede a la posicion seleccionada de el array \n",
    "print(array[-1])"
   ]
  },
  {
   "cell_type": "code",
   "execution_count": 3,
   "id": "6b6fa374",
   "metadata": {},
   "outputs": [
    {
     "name": "stdout",
     "output_type": "stream",
     "text": [
      "[20 30]\n"
     ]
    }
   ],
   "source": [
    "print(array[1:3]) # trae los elementos en las posiciones 2 y 3 porque iniciamos desde el 1 que en programacion es el 2"
   ]
  },
  {
   "cell_type": "code",
   "execution_count": 4,
   "id": "02e0d281",
   "metadata": {},
   "outputs": [
    {
     "name": "stdout",
     "output_type": "stream",
     "text": [
      "[20 30 40 50]\n",
      "array pero trayendolo de atras hacia adelante\n",
      "[]\n"
     ]
    }
   ],
   "source": [
    "print(array[1:8]) # trae los elementos en las posiciones 2, 3, 4, 5 y 6 aunque nos pacemos en la especificacion de los elementos que queremos que nos traiga \n",
    "print('array pero trayendolo de atras hacia adelante')\n",
    "print(array[-1:-7]) # no trae ningun elemento porque de esta manera no funciona"
   ]
  },
  {
   "cell_type": "code",
   "execution_count": 5,
   "id": "b8b8ddd2",
   "metadata": {},
   "outputs": [
    {
     "name": "stdout",
     "output_type": "stream",
     "text": [
      "[30 40 50]\n",
      "[False False  True  True  True]\n",
      "<class 'numpy.ndarray'>\n"
     ]
    }
   ],
   "source": [
    "bool_index = array > 25 # vemos que elementos son mayores a 25\n",
    "print(array[bool_index]) # muestra los valores en el array que sean mayores a 25\n",
    "print(bool_index) # muestra de forma de booleano los que si cumplen o no con esta condicion\n",
    "print(type(bool_index)) # muestra que tipo de dato es bool_index"
   ]
  },
  {
   "cell_type": "code",
   "execution_count": 6,
   "id": "812cd48b",
   "metadata": {},
   "outputs": [
    {
     "name": "stdout",
     "output_type": "stream",
     "text": [
      "[30 10 50]\n"
     ]
    }
   ],
   "source": [
    "index = [2,0,4]\n",
    "print(array[index]) # trae los elementos en las posiciones 3, 1 y 5 del array"
   ]
  },
  {
   "cell_type": "code",
   "execution_count": 7,
   "id": "46b1439d",
   "metadata": {},
   "outputs": [
    {
     "name": "stdout",
     "output_type": "stream",
     "text": [
      "[[34 32 31]\n",
      " [22 11  8]\n",
      " [24 43  6]]\n",
      "11\n"
     ]
    }
   ],
   "source": [
    "array2 = np.random.randint(2, 50, size=(3,3))\n",
    "print(array2)\n",
    "print(array2[1,1]) # trae el elemento en la posicion fila 1 columna 2"
   ]
  },
  {
   "cell_type": "code",
   "execution_count": 10,
   "id": "90080396",
   "metadata": {},
   "outputs": [
    {
     "name": "stdout",
     "output_type": "stream",
     "text": [
      "[[34 32 31]\n",
      " [22 11  8]]\n"
     ]
    }
   ],
   "source": [
    "print(array2[0:2, 0:3]) # trae las filas 0 y 1 y las columnas 0, 1 y 2"
   ]
  }
 ],
 "metadata": {
  "kernelspec": {
   "display_name": "ciencia_datos_aplicada",
   "language": "python",
   "name": "python3"
  },
  "language_info": {
   "codemirror_mode": {
    "name": "ipython",
    "version": 3
   },
   "file_extension": ".py",
   "mimetype": "text/x-python",
   "name": "python",
   "nbconvert_exporter": "python",
   "pygments_lexer": "ipython3",
   "version": "3.13.5"
  }
 },
 "nbformat": 4,
 "nbformat_minor": 5
}
