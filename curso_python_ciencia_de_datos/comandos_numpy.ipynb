{
 "cells": [
  {
   "cell_type": "markdown",
   "id": "b93f2626",
   "metadata": {},
   "source": [
    "## 📌 Guía de NumPy con ejemplos\n",
    "\n",
    "#### Esta es una guia compelta de todos los comandos que hay en numpy y su uso con diferentes casos"
   ]
  },
  {
   "cell_type": "code",
   "execution_count": 1,
   "id": "bfc90532",
   "metadata": {},
   "outputs": [],
   "source": [
    "import numpy as np # libreria numpy"
   ]
  },
  {
   "cell_type": "markdown",
   "id": "65be14f4",
   "metadata": {},
   "source": [
    "🔹 1. Creación de arrays"
   ]
  },
  {
   "cell_type": "code",
   "execution_count": 2,
   "id": "97ee9a0b",
   "metadata": {},
   "outputs": [
    {
     "name": "stdout",
     "output_type": "stream",
     "text": [
      "lista o array: [1 2 3]\n",
      "array de ceros: [[0. 0. 0.]\n",
      " [0. 0. 0.]]\n",
      "array de unos: [[1. 1.]\n",
      " [1. 1.]\n",
      " [1. 1.]]\n",
      "array lleno con un valor específico: [[7 7]\n",
      " [7 7]]\n",
      "array vacío: [[7.78775915e-319 0.00000000e+000]\n",
      " [0.00000000e+000 6.25514754e-310]]\n",
      "array con rango de números: [0 2 4 6 8]\n",
      "array con valores espaciados linealmente: [0.   0.25 0.5  0.75 1.  ]\n"
     ]
    }
   ],
   "source": [
    "# Crear un array a partir de una lista\n",
    "arr = np.array([1, 2, 3])  # array de enteros\n",
    "\n",
    "print('lista o array:' ,arr)\n",
    "\n",
    "# Array de ceros\n",
    "zeros = np.zeros((2,3))  # 2 filas x 3 columnas llenas de 0\n",
    "\n",
    "print('array de ceros:', zeros)\n",
    "\n",
    "# Array de unos\n",
    "ones = np.ones((3,2))  # 3x2 llenos de 1\n",
    "print('array de unos:', ones)\n",
    "\n",
    "# Array lleno con un valor específico\n",
    "full = np.full((2,2), 7)  # 2x2 con todos los elementos = 7\n",
    "print('array lleno con un valor específico:', full)\n",
    "\n",
    "# Array vacío (valores no inicializados)\n",
    "empty = np.empty((2,2))\n",
    "print('array vacío:', empty)\n",
    "\n",
    "# Array con rango de números\n",
    "arr_range = np.arange(0,10,2)  # de 0 a 10 (excluido) con paso 2\n",
    "print('array con rango de números:', arr_range)\n",
    "\n",
    "# Array con valores espaciados linealmente\n",
    "lin = np.linspace(0,1,5)  # 5 números entre 0 y 1\n",
    "print('array con valores espaciados linealmente:', lin)"
   ]
  },
  {
   "cell_type": "markdown",
   "id": "9fc1b78a",
   "metadata": {},
   "source": [
    "🔹 2. Información o lectura de arrays"
   ]
  },
  {
   "cell_type": "code",
   "execution_count": 3,
   "id": "a0f716c4",
   "metadata": {},
   "outputs": [
    {
     "name": "stdout",
     "output_type": "stream",
     "text": [
      "Información o lectura de arrays: (2, 3)\n",
      "cantidad de elementos del array: 6\n",
      "número de dimensiones del array: 2\n",
      "tipo de dato del array: int64\n",
      "tamaño en bytes de cada elemento: 8\n"
     ]
    }
   ],
   "source": [
    "arr = np.array([[1,2,3],[4,5,6]])\n",
    "\n",
    "\n",
    "print('Información o lectura de arrays:', arr.shape)   # forma del array (filas, columnas)\n",
    "print('cantidad de elementos del array:', arr.size)    # cantidad de elementos\n",
    "print('número de dimensiones del array:', arr.ndim)    # número de dimensiones\n",
    "print('tipo de dato del array:', arr.dtype)    # tipo de dato\n",
    "print('tamaño en bytes de cada elemento:', arr.itemsize) # tamaño en bytes de cada elemento\n"
   ]
  },
  {
   "cell_type": "markdown",
   "id": "d5444829",
   "metadata": {},
   "source": [
    "🔹 3. Operaciones matemáticas básicas entre listas o arrays"
   ]
  },
  {
   "cell_type": "code",
   "execution_count": 4,
   "id": "96285e45",
   "metadata": {},
   "outputs": [
    {
     "name": "stdout",
     "output_type": "stream",
     "text": [
      "suma de elementos por su orden en la lista: [5 7 9]\n",
      "resta los elementos dependiendo de su posicion: [-3 -3 -3]\n",
      "producto de elementos por su orden en la lista: [ 4 10 18]\n",
      "división elemento a elemento: [0.25 0.4  0.5 ]\n",
      "división elemento a elemento: [0.25 0.4  0.5 ]\n",
      "potencia elemento a elemento: [1 4 9]\n",
      "raíz cuadrada elemento a elemento: [1.         1.41421356 1.73205081]\n",
      "exponencial elemento a elemento: [ 2.71828183  7.3890561  20.08553692]\n",
      "logaritmo natural elemento a elemento: [0.         0.69314718 1.09861229]\n",
      "seno coseno o tangente elemento a elemento: [0.84147098 0.90929743 0.14112001] [ 0.54030231 -0.41614684 -0.9899925 ] [ 1.55740772 -2.18503986 -0.14254654]\n",
      "seno de cada elemento: [0.84147098 0.90929743 0.14112001]\n",
      "coseno de cada elemento: [ 0.54030231 -0.41614684 -0.9899925 ]\n",
      "tangente de cada elemento: [ 1.55740772 -2.18503986 -0.14254654]\n",
      "array guardada de una suma:\n",
      "[5 7 9]\n",
      "[5 7 9]\n"
     ]
    }
   ],
   "source": [
    "a = np.array([1,2,3])\n",
    "b = np.array([4,5,6])\n",
    "c = []\n",
    "\n",
    "\n",
    "print('suma de elementos por su orden en la lista:', np.add(a,b))        # suma elemento a elemento\n",
    "print('resta los elementos dependiendo de su posicion:', np.subtract(a,b))   # resta elemento a elemento\n",
    "print('producto de elementos por su orden en la lista:', np.multiply(a,b))   # multiplicación elemento a elemento\n",
    "print('división elemento a elemento:', np.divide(a,b))     # división elemento a elemento\n",
    "print('división elemento a elemento:', np.divide(a,b))     # división elemento a elemento\n",
    "print('potencia elemento a elemento:', np.power(a,2))      # elevar al cuadrado\n",
    "print('raíz cuadrada elemento a elemento:', np.sqrt(a))         # raíz cuadrada\n",
    "print('exponencial elemento a elemento:', np.exp(a))          # e^a\n",
    "print('logaritmo natural elemento a elemento:', np.log(a))          # logaritmo natural\n",
    "print('seno coseno o tangente elemento a elemento:', np.sin(a), np.cos(a), np.tan(a))\n",
    "print('seno de cada elemento:', np.sin(a))          # seno de cada elemento\n",
    "print('coseno de cada elemento:', np.cos(a))          # coseno de cada elemento\n",
    "print('tangente de cada elemento:', np.tan(a))          # tangente de cada elemento\n",
    "\n",
    "c = np.add(a,b)  # suma elemento a elemento y guarda en nueva array\n",
    "np.add(a,b, out=c) # de esta forma tambien se puede guardar en una nueva array\n",
    "print('array guardada de una suma:')\n",
    "print(c)\n",
    "print(c)"
   ]
  },
  {
   "cell_type": "markdown",
   "id": "9cd85f2a",
   "metadata": {},
   "source": [
    "🔹 4. Estadísticas y agregaciones"
   ]
  },
  {
   "cell_type": "code",
   "execution_count": 5,
   "id": "ab48160f",
   "metadata": {},
   "outputs": [
    {
     "name": "stdout",
     "output_type": "stream",
     "text": [
      "suma todos los elementos que esten en el array 15\n",
      "promedio de todos los elementos que esten en el array 3.0\n",
      "mediana de todos los elementos que esten en el array 3.0\n",
      "desviación estándar de todos los elementos que esten en el array 1.4142135623730951\n",
      "varianza de todos los elementos que esten en el array 2.0\n",
      "valor mínimo de todos los elementos que esten en el array 1\n",
      "valor máximo de todos los elementos que esten en el array 5\n",
      "índice del valor mínimo de todos los elementos que esten en el array 0\n",
      "índice del valor máximo de todos los elementos que esten en el array 4\n"
     ]
    }
   ],
   "source": [
    "arr = np.array([1,2,3,4,5])\n",
    "\n",
    "print('suma todos los elementos que esten en el array', np.sum(arr))         # suma de todos los elementos\n",
    "print('promedio de todos los elementos que esten en el array', np.mean(arr))        # promedio\n",
    "print('mediana de todos los elementos que esten en el array', np.median(arr))      # mediana\n",
    "print('desviación estándar de todos los elementos que esten en el array', np.std(arr))         # desviación estándar\n",
    "print('varianza de todos los elementos que esten en el array', np.var(arr))         # varianza\n",
    "print('valor mínimo de todos los elementos que esten en el array', np.min(arr))         # valor mínimo\n",
    "print('valor máximo de todos los elementos que esten en el array', np.max(arr))         # valor máximo\n",
    "print('índice del valor mínimo de todos los elementos que esten en el array', np.argmin(arr))      # índice del valor mínimo\n",
    "print('índice del valor máximo de todos los elementos que esten en el array', np.argmax(arr))      # índice del valor máximo\n"
   ]
  },
  {
   "cell_type": "markdown",
   "id": "9419aaaa",
   "metadata": {},
   "source": [
    "🔹 5. Manipulación de arrays"
   ]
  },
  {
   "cell_type": "code",
   "execution_count": 6,
   "id": "5de10bb3",
   "metadata": {},
   "outputs": [
    {
     "name": "stdout",
     "output_type": "stream",
     "text": [
      "cambiar forma a 3x2: [[1 2]\n",
      " [3 4]\n",
      " [5 6]]\n",
      "aplanar en 1D: [1 2 3 4 5 6]\n",
      "aplanar en 1D (copia): [1 2 3 4 5 6]\n",
      "transpuesta: [[1 4]\n",
      " [2 5]\n",
      " [3 6]]\n",
      "unir arrays verticalmente: [[1 2 3]\n",
      " [4 5 6]\n",
      " [1 2 3]\n",
      " [4 5 6]]\n",
      "apilar verticalmente: [[1 2 3]\n",
      " [4 5 6]\n",
      " [1 2 3]\n",
      " [4 5 6]]\n",
      "apilar horizontalmente: [[1 2 3 1 2 3]\n",
      " [4 5 6 4 5 6]]\n",
      "dividir verticalmente en 2: [array([[1, 2, 3]]), array([[4, 5, 6]])]\n",
      "repetir array 2 veces verticalmente: [[1 2 3]\n",
      " [4 5 6]\n",
      " [1 2 3]\n",
      " [4 5 6]]\n",
      "repetir cada columna 2 veces: [[1 1 2 2 3 3]\n",
      " [4 4 5 5 6 6]]\n",
      "voltear filas: [[4 5 6]\n",
      " [1 2 3]]\n",
      "rotar columnas: [[3 1 2]\n",
      " [6 4 5]]\n",
      "ordenar filas: [[1 2 3]\n",
      " [4 5 6]]\n"
     ]
    }
   ],
   "source": [
    "arr = np.array([[1,2,3],[4,5,6]])\n",
    "\n",
    "\n",
    "print('cambiar forma a 3x2:', arr.reshape((3,2)))  # cambiar forma a 3x2\n",
    "print('aplanar en 1D:', arr.ravel())          # aplanar en 1D\n",
    "print('aplanar en 1D (copia):', arr.flatten())        # aplanar en 1D (copia)\n",
    "print('transpuesta:', arr.T)                # transpuesta\n",
    "print('unir arrays verticalmente:', np.concatenate([arr, arr], axis=0))  # unir arrays verticalmente\n",
    "print('apilar verticalmente:', np.vstack([arr, arr])) # apilar verticalmente\n",
    "print('apilar horizontalmente:', np.hstack([arr, arr])) # apilar horizontalmente\n",
    "print('dividir verticalmente en 2:', np.split(arr,2,axis=0)) # dividir verticalmente en 2\n",
    "print('repetir array 2 veces verticalmente:', np.tile(arr,(2,1)))     # repetir array 2 veces verticalmente\n",
    "print('repetir cada columna 2 veces:', np.repeat(arr,2,axis=1)) # repetir cada columna 2 veces\n",
    "print('voltear filas:', np.flip(arr,axis=0))    # voltear filas\n",
    "print('rotar columnas:', np.roll(arr,1,axis=1))  # rotar columnas\n",
    "print('ordenar filas:', np.sort(arr,axis=1))    # ordenar filas"
   ]
  },
  {
   "cell_type": "markdown",
   "id": "3b02c3e5",
   "metadata": {},
   "source": [
    "🔹 6. Indexación y condiciones"
   ]
  },
  {
   "cell_type": "code",
   "execution_count": 7,
   "id": "f3df275e",
   "metadata": {},
   "outputs": [
    {
     "name": "stdout",
     "output_type": "stream",
     "text": [
      "arr[0]: 10\n",
      "arr[1:4]: [20 30 40]\n",
      "arr[::2]: [10 30 50]\n",
      "np.where(arr>25): (array([2, 3, 4]),)\n",
      "np.nonzero(arr>25): (array([2, 3, 4]),)\n",
      "arr[np.where(arr>25)]: [30 40 50]\n"
     ]
    }
   ],
   "source": [
    "arr = np.array([10,20,30,40,50])\n",
    "\n",
    "print('arr[0]:', arr[0])        # primer elemento\n",
    "print('arr[1:4]:', arr[1:4])      # elementos 1 a 3\n",
    "print('arr[::2]:', arr[::2])      # elementos cada 2 pasos\n",
    "print('np.where(arr>25):', np.where(arr>25))  # índices donde la condición es True\n",
    "print('np.nonzero(arr>25):', np.nonzero(arr>25)) # lo mismo que np.where\n",
    "print('arr[np.where(arr>25)]:', arr[np.where(arr>25)]) # elementos que cumplen la condición"
   ]
  },
  {
   "cell_type": "markdown",
   "id": "8b1de7a5",
   "metadata": {},
   "source": [
    "🔹 7. Álgebra lineal"
   ]
  },
  {
   "cell_type": "code",
   "execution_count": 8,
   "id": "1599c72a",
   "metadata": {},
   "outputs": [
    {
     "name": "stdout",
     "output_type": "stream",
     "text": [
      "np.dot(A,B): [[19 22]\n",
      " [43 50]]\n",
      "np.matmul(A,B): [[19 22]\n",
      " [43 50]]\n",
      "np.cross([1,0,0],[0,1,0]): [0 0 1]\n",
      "np.linalg.inv(A): [[-2.   1. ]\n",
      " [ 1.5 -0.5]]\n",
      "np.linalg.det(A): -2.0000000000000004\n",
      "np.linalg.eig(A): EigResult(eigenvalues=array([-0.37228132,  5.37228132]), eigenvectors=array([[-0.82456484, -0.41597356],\n",
      "       [ 0.56576746, -0.90937671]]))\n",
      "np.linalg.norm(A): 5.477225575051661\n"
     ]
    }
   ],
   "source": [
    "A = np.array([[1,2],[3,4]])\n",
    "B = np.array([[5,6],[7,8]])\n",
    "\n",
    "print('np.dot(A,B):', np.dot(A,B))           # producto punto\n",
    "print('np.matmul(A,B):', np.matmul(A,B))        # multiplicación de matrices\n",
    "print('np.cross([1,0,0],[0,1,0]):', np.cross([1,0,0],[0,1,0])) # producto cruzado\n",
    "print('np.linalg.inv(A):', np.linalg.inv(A))      # matriz inversa\n",
    "print('np.linalg.det(A):', np.linalg.det(A))      # determinante\n",
    "print('np.linalg.eig(A):', np.linalg.eig(A))      # eigenvalores y eigenvectores\n",
    "print('np.linalg.norm(A):', np.linalg.norm(A))     # norma (longitud) de la matriz"
   ]
  },
  {
   "cell_type": "markdown",
   "id": "dbcba98f",
   "metadata": {},
   "source": [
    "🔹 8. Funciones aleatorias"
   ]
  },
  {
   "cell_type": "code",
   "execution_count": 9,
   "id": "27066bd9",
   "metadata": {},
   "outputs": [
    {
     "name": "stdout",
     "output_type": "stream",
     "text": [
      "3 numeros uniformes entre 0 y 1: [0.37454012 0.95071431 0.73199394]\n",
      "3 numeros normales (media=0, sd=1): [-1.11188012  0.31890218  0.27904129]\n",
      "5 enteros aleatorios entre 0 y 9: [7 2 5 4 1]\n",
      "elegir aleatoriamente 2 elementos: [20 20]\n",
      "permutar sin modificar original: [10 50 20 30 40]\n",
      "5 numeros de una normal (media=0, sd=1): [ 1.01051528 -1.72491783 -0.56228753 -1.01283112  0.31424733]\n"
     ]
    }
   ],
   "source": [
    "np.random.seed(42)           # fijar semilla para reproducibilidad\n",
    "print('3 numeros uniformes entre 0 y 1:', np.random.rand(3))     # 3 números uniformes entre 0 y 1\n",
    "print('3 numeros normales (media=0, sd=1):', np.random.randn(3))    # 3 números normales (media=0, sd=1)\n",
    "print('5 enteros aleatorios entre 0 y 9:', np.random.randint(0,10,5)) # 5 enteros aleatorios entre 0 y 9\n",
    "print('elegir aleatoriamente 2 elementos:', np.random.choice([10,20,30], 2)) # elegir aleatoriamente 2 elementos\n",
    "np.random.shuffle(arr)       # mezclar el array\n",
    "print('permutar sin modificar original:', np.random.permutation(arr)) # permutar sin modificar original\n",
    "print('5 numeros de una normal (media=0, sd=1):', np.random.normal(0,1,5))  # 5 números de una normal (media=0, sd=1)"
   ]
  },
  {
   "cell_type": "markdown",
   "id": "1860390d",
   "metadata": {},
   "source": [
    "🔹 9. Guardar y cargar dato"
   ]
  },
  {
   "cell_type": "code",
   "execution_count": 10,
   "id": "996f9b56",
   "metadata": {},
   "outputs": [
    {
     "name": "stdout",
     "output_type": "stream",
     "text": [
      "loaded: [1 2 3 4 5]\n",
      "loaded_txt: [1. 2. 3. 4. 5.]\n"
     ]
    }
   ],
   "source": [
    "arr = np.array([1,2,3,4,5])\n",
    "\n",
    "np.save('arr.npy', arr)        # guardar array en formato binario\n",
    "loaded = np.load('arr.npy')    # cargar array esto para verificar que se guardó correctamente\n",
    "print('loaded:', loaded)\n",
    "\n",
    "np.savetxt('arr.txt', arr)     # guardar como texto para verificar que se guardó correctamente\n",
    "loaded_txt = np.loadtxt('arr.txt')\n",
    "print('loaded_txt:', loaded_txt)\n"
   ]
  }
 ],
 "metadata": {
  "kernelspec": {
   "display_name": "ciencia_datos_aplicada",
   "language": "python",
   "name": "python3"
  },
  "language_info": {
   "codemirror_mode": {
    "name": "ipython",
    "version": 3
   },
   "file_extension": ".py",
   "mimetype": "text/x-python",
   "name": "python",
   "nbconvert_exporter": "python",
   "pygments_lexer": "ipython3",
   "version": "3.13.5"
  }
 },
 "nbformat": 4,
 "nbformat_minor": 5
}
