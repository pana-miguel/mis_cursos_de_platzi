{
 "cells": [
  {
   "cell_type": "markdown",
   "id": "5cb51861",
   "metadata": {},
   "source": [
    "### Manipulación de Matrices y Arrays en NumPy: Transponer, Invertir y Aplanar\n",
    "esto sirve para resolver sistemas de ecuaciones tambien sirve para algoridmos de procesamientos de selniales "
   ]
  },
  {
   "cell_type": "code",
   "execution_count": 1,
   "id": "c0fa7f88",
   "metadata": {},
   "outputs": [],
   "source": [
    "import numpy as np"
   ]
  },
  {
   "cell_type": "code",
   "execution_count": null,
   "id": "16ef4965",
   "metadata": {},
   "outputs": [
    {
     "name": "stdout",
     "output_type": "stream",
     "text": [
      "[[1 2 3]\n",
      " [4 5 6]\n",
      " [7 8 9]]\n",
      "[[1 4 7]\n",
      " [2 5 8]\n",
      " [3 6 9]]\n"
     ]
    }
   ],
   "source": [
    "matriz = np.array([[1,2,3],[4,5,6],[7,8,9]])\n",
    "transpuestas = matriz.T # la t nos dice que las transpone y cambia los lugares de la matriz \n",
    "print(matriz)\n",
    "print(transpuestas)"
   ]
  },
  {
   "cell_type": "code",
   "execution_count": null,
   "id": "7cc3139b",
   "metadata": {},
   "outputs": [
    {
     "name": "stdout",
     "output_type": "stream",
     "text": [
      "[ 1  2  3  4  5  6  7  8  9 10 11 12]\n",
      "[[ 1  2  3  4]\n",
      " [ 5  6  7  8]\n",
      " [ 9 10 11 12]]\n",
      "[[ 1  2  3  4  5  6]\n",
      " [ 7  8  9 10 11 12]]\n"
     ]
    }
   ],
   "source": [
    "#se puede hacer siempre que la dimension sea la misma en ejemplo esta esta tenemos 12 deatos que caben en matrices 3x4 o 2x6 pero no caben en una 3x5\n",
    "array = np.arange(1,13)\n",
    "reshape = array.reshape(3,4) # cambia la forma del array a 3 filas y 4 columnas\n",
    "reshape2 = array.reshape(2,6) # cambia la forma del array a 2 filas y 6 columnas\n",
    "print(array)\n",
    "print(reshape)\n",
    "print(reshape2)"
   ]
  },
  {
   "cell_type": "code",
   "execution_count": 9,
   "id": "18c5c2ae",
   "metadata": {},
   "outputs": [
    {
     "name": "stdout",
     "output_type": "stream",
     "text": [
      "[ 1  2  3  4  5  6  7  8  9 10 11 12]\n",
      "[12 11 10  9  8  7  6  5  4  3  2  1]\n"
     ]
    }
   ],
   "source": [
    "reversiva = array[::-1] # invierte el array\n",
    "print(array)\n",
    "print(reversiva)"
   ]
  },
  {
   "cell_type": "code",
   "execution_count": null,
   "id": "6765dbb5",
   "metadata": {},
   "outputs": [
    {
     "name": "stdout",
     "output_type": "stream",
     "text": [
      "[[1 2 3]\n",
      " [4 5 6]\n",
      " [7 8 9]]\n",
      "[1 2 3 4 5 6 7 8 9]\n"
     ]
    }
   ],
   "source": [
    "# el flatinf sirve para aplanar matrices y dejarlas en array\n",
    "matriz = np.array([[1,2,3],[4,5,6],[7,8,9]]) # matriz de 2 dimenciones \n",
    "aplanamiento = matriz.flatten() # aplana la matriz a una dimension\n",
    "print(matriz)\n",
    "print(aplanamiento)"
   ]
  }
 ],
 "metadata": {
  "kernelspec": {
   "display_name": "ciencia_datos_aplicada",
   "language": "python",
   "name": "python3"
  },
  "language_info": {
   "codemirror_mode": {
    "name": "ipython",
    "version": 3
   },
   "file_extension": ".py",
   "mimetype": "text/x-python",
   "name": "python",
   "nbconvert_exporter": "python",
   "pygments_lexer": "ipython3",
   "version": "3.13.5"
  }
 },
 "nbformat": 4,
 "nbformat_minor": 5
}
