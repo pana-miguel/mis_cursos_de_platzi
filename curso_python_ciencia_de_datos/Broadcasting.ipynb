{
 "cells": [
  {
   "cell_type": "markdown",
   "id": "3bfdd75b",
   "metadata": {},
   "source": [
    "### Broadcasting\n",
    "El broadcasting sirve para combinar arrays que tienen diferente cantidad de valores entre ellos esto para poder hacer ecuaciones o fusiones entre los arrays "
   ]
  },
  {
   "cell_type": "code",
   "execution_count": 1,
   "id": "6d0a5406",
   "metadata": {},
   "outputs": [],
   "source": [
    "import numpy as np"
   ]
  },
  {
   "cell_type": "code",
   "execution_count": null,
   "id": "05715007",
   "metadata": {},
   "outputs": [
    {
     "name": "stdout",
     "output_type": "stream",
     "text": [
      "[ 90. 180. 270.]\n"
     ]
    }
   ],
   "source": [
    "# en este caso se esta uniendo un array de 3 valores multiplicado por un array de un solo valor esto solo para hacer la prueba de que si se pueden unir dos arrays de diferentes tamanios\n",
    "precios = np.array([100,200,300])\n",
    "descuento = np.array([0.9])       \n",
    "precios_descuento = precios * descuento\n",
    "print(precios_descuento)"
   ]
  },
  {
   "cell_type": "code",
   "execution_count": null,
   "id": "2f022a81",
   "metadata": {},
   "outputs": [
    {
     "name": "stdout",
     "output_type": "stream",
     "text": [
      "[[145 401 439]\n",
      " [443 266 316]\n",
      " [170 311 340]]\n",
      "[[155 421 469]\n",
      " [453 286 346]\n",
      " [180 331 370]]\n"
     ]
    }
   ],
   "source": [
    "# unimos un array con una matriz y en este caso se puede decir que son iguales ya que el array es de 3 valores y la matriz es 3x3 entonces al primer valor de la matriz de cada una de sus filas \n",
    "# se le van a sumar 10 a la segunda 20 y a la tercera 30 \n",
    "precios = np.random.randint(100,500, size=(3,3))\n",
    "descuento = np.array([10,20,30])\n",
    "precio_sumado = precios + descuento\n",
    "print(precios)\n",
    "print(precio_sumado)"
   ]
  },
  {
   "cell_type": "code",
   "execution_count": 19,
   "id": "6c4208e2",
   "metadata": {},
   "outputs": [
    {
     "name": "stdout",
     "output_type": "stream",
     "text": [
      "[[ 115.  119.  125.]\n",
      " [ 230.  238.  250.]\n",
      " [ 345.  357.  375.]\n",
      " [ 460.  476.  500.]\n",
      " [ 575.  595.  625.]\n",
      " [ 690.  714.  750.]\n",
      " [ 805.  833.  875.]\n",
      " [ 920.  952. 1000.]\n",
      " [1035. 1071. 1125.]\n",
      " [1150. 1190. 1250.]]\n"
     ]
    }
   ],
   "source": [
    "# de esta forma puede compara un array de precios aplicandole iva con mas de un iva \n",
    "precios = np.array([100,200,300,400,500,600,700,800,900,1000])\n",
    "iva = np.array([0.15 , 0.19 , 0.25])\n",
    "precio_con_iva = precios[:, np.newaxis] * (1 + iva)\n",
    "print(precio_con_iva)\n"
   ]
  },
  {
   "cell_type": "code",
   "execution_count": null,
   "id": "b093c5fd",
   "metadata": {},
   "outputs": [
    {
     "name": "stdout",
     "output_type": "stream",
     "text": [
      "True\n"
     ]
    }
   ],
   "source": [
    "array = np.array([1,2,3,4,5])\n",
    "print(np.all(array > 0)) # todos los elementos deben ser mayores a 0\n"
   ]
  },
  {
   "cell_type": "code",
   "execution_count": null,
   "id": "ec90aa6e",
   "metadata": {},
   "outputs": [
    {
     "name": "stdout",
     "output_type": "stream",
     "text": [
      "True\n"
     ]
    }
   ],
   "source": [
    "print(np.any(array > 4)) # algun elemento es mayor a 4"
   ]
  },
  {
   "cell_type": "markdown",
   "id": "9262db6d",
   "metadata": {},
   "source": [
    "### concatenacion\n",
    "sirve para unir dos o mas arrays en uno solo con el orden que queramos \n"
   ]
  },
  {
   "cell_type": "code",
   "execution_count": 28,
   "id": "659da388",
   "metadata": {},
   "outputs": [
    {
     "name": "stdout",
     "output_type": "stream",
     "text": [
      "[1 2 3 4 5 3]\n"
     ]
    }
   ],
   "source": [
    "array1 = np.array([1,2,3])\n",
    "array2 = np.array([4,5,3])\n",
    "\n",
    "concatenar = np.concatenate((array1, array2))\n",
    "print(concatenar)"
   ]
  },
  {
   "cell_type": "code",
   "execution_count": 31,
   "id": "10fed199",
   "metadata": {},
   "outputs": [
    {
     "name": "stdout",
     "output_type": "stream",
     "text": [
      "[1 2 3 7 8 9 4 5 6]\n",
      "[1 2 3 4 5 6 7 8 9]\n",
      "[9 8 7 6 5 4 3 2 1]\n"
     ]
    }
   ],
   "source": [
    "array1 = np.array([1,2,3])\n",
    "array2 = np.array([4,5,6])\n",
    "array3 = np.array([7,8,9])\n",
    "\n",
    "concatenar = np.concatenate((array1, array3, array2))\n",
    "print(concatenar)\n",
    "# asi se organiza el array de forma acendente\n",
    "concatenar.sort()\n",
    "print(concatenar)\n",
    "#tambien se puede de forma decendente\n",
    "concatenar.sort()\n",
    "concatenar = concatenar[::-1]\n",
    "print(concatenar)"
   ]
  },
  {
   "cell_type": "markdown",
   "id": "4a48d2a0",
   "metadata": {},
   "source": [
    "### stacking\n",
    "apila arrays o da otra dimencionalidad especificando que queremos que agan "
   ]
  },
  {
   "cell_type": "code",
   "execution_count": 34,
   "id": "2383a255",
   "metadata": {},
   "outputs": [
    {
     "name": "stdout",
     "output_type": "stream",
     "text": [
      "[[1 2 3]\n",
      " [4 5 6]]\n"
     ]
    }
   ],
   "source": [
    "stakear_verticalmente = np.vstack((array1, array2))\n",
    "print(stakear_verticalmente)"
   ]
  },
  {
   "cell_type": "code",
   "execution_count": 36,
   "id": "96a4b776",
   "metadata": {},
   "outputs": [
    {
     "name": "stdout",
     "output_type": "stream",
     "text": [
      "[1 2 3 4 5 6]\n"
     ]
    }
   ],
   "source": [
    "stakear_horizontalmente = np.hstack((array1, array2))\n",
    "print(stakear_horizontalmente)"
   ]
  },
  {
   "cell_type": "markdown",
   "id": "59782c36",
   "metadata": {},
   "source": [
    "### split\n",
    "division de los arrayas en arrays mas pequenios"
   ]
  },
  {
   "cell_type": "code",
   "execution_count": 2,
   "id": "8a0558bd",
   "metadata": {},
   "outputs": [
    {
     "name": "stdout",
     "output_type": "stream",
     "text": [
      "[ 1  2  3  4  5  6  7  8  9 10]\n",
      "[array([1, 2, 3, 4]), array([5, 6, 7]), array([ 8,  9, 10])]\n",
      "[1 2 3 4]\n",
      "[5 6 7]\n",
      "[ 8  9 10]\n"
     ]
    }
   ],
   "source": [
    "array3 = np.arange(1,11)\n",
    "split_array = np.array_split(array3, 3)\n",
    "print(array3)\n",
    "print(split_array)\n",
    "\n",
    "#de esta forma se pueden usar estos nuevos arrays llamandoslos desde sus indices \n",
    "a = split_array[0]   # primer array\n",
    "b = split_array[1]   # segundo array\n",
    "c = split_array[2]   # tercer array\n",
    "\n",
    "print(a)\n",
    "print(b)\n",
    "print(c)"
   ]
  }
 ],
 "metadata": {
  "kernelspec": {
   "display_name": "ciencia_datos_aplicada",
   "language": "python",
   "name": "python3"
  },
  "language_info": {
   "codemirror_mode": {
    "name": "ipython",
    "version": 3
   },
   "file_extension": ".py",
   "mimetype": "text/x-python",
   "name": "python",
   "nbconvert_exporter": "python",
   "pygments_lexer": "ipython3",
   "version": "3.13.5"
  }
 },
 "nbformat": 4,
 "nbformat_minor": 5
}
