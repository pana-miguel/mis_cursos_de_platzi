{
 "cells": [
  {
   "cell_type": "markdown",
   "id": "ab71e3b1",
   "metadata": {},
   "source": [
    "### Arrays en numpy"
   ]
  },
  {
   "cell_type": "code",
   "execution_count": 1,
   "id": "25b6be18",
   "metadata": {},
   "outputs": [],
   "source": [
    "import numpy as np"
   ]
  },
  {
   "cell_type": "code",
   "execution_count": 2,
   "id": "28d3d0a9",
   "metadata": {},
   "outputs": [
    {
     "name": "stdout",
     "output_type": "stream",
     "text": [
      "2\n",
      "(2, 3)\n",
      "int64\n"
     ]
    }
   ],
   "source": [
    "array = np.array([[1,2,3],[4,5,6]])\n",
    "print(array.ndim) # nos dice el número de dimensiones del array\n",
    "print(array.shape) # nos dice la forma del array o del vector en este caso\n",
    "print(array.dtype) # describe el tipo de elementos que tenemos en nuestro array"
   ]
  },
  {
   "cell_type": "markdown",
   "id": "918456b3",
   "metadata": {},
   "source": [
    "### `dtype`\n",
    "\n",
    "El parámetro **`dtype`** describe la información que hay dentro de un arreglo (lista, vector, matriz o tensor) en **NumPy**:  \n",
    "- El **tipo de dato** que se almacena.  \n",
    "- El **tamaño en memoria** que ocupa cada elemento.  \n",
    "- La **precisión** (en el caso de números decimales).  \n",
    "\n",
    "---\n",
    "\n",
    "#### Ejemplos comunes de `dtype`:\n",
    "\n",
    "| Tipo     | Bits | Rango / Precisión                                | Uso principal |\n",
    "|----------|------|--------------------------------------------------|---------------|\n",
    "| **uint8**  | 8    | 0 a 255                                        | Se usa mucho en **imágenes**, ya que cada pixel puede representarse con 0–255. |\n",
    "| **float32** | 32   | ~7 decimales de precisión                      | Usado en **cálculos científicos** y machine learning para ahorrar memoria y acelerar el procesamiento. |\n",
    "| **float64** | 64   | ~15–16 decimales de precisión (por defecto en NumPy) | Se usa cuando se requiere **mayor precisión numérica** en cálculos con decimales. |\n",
    "\n",
    "---\n",
    "\n",
    "📌 **Nota:**  \n",
    "- `uint8` = números enteros sin signo (solo positivos).  \n",
    "- `float32` = punto flotante con menor precisión pero más eficiente.  \n",
    "- `float64` = mayor precisión, más memoria, más exactitud (default en NumPy).  \n",
    "\n",
    "\n",
    "\n",
    "\n",
    "### Rangos de tipos de datos numéricos en NumPy\n",
    "\n",
    "Estos son los rangos con los que se maneja la información en cada tipo.  \n",
    "Esto ayuda al procesador a ser más rápido, ya que le estamos definiendo un espacio justo en memoria a cada número, array o tupla.  \n",
    "\n",
    "---\n",
    "\n",
    "🔹 **Enteros con signo (`int`)**  \n",
    "Estos permiten valores negativos y positivos:\n",
    "\n",
    "| Tipo   | Bits | Bytes | Rango mínimo             | Rango máximo             |\n",
    "|--------|------|-------|--------------------------|--------------------------|\n",
    "| int8   | 8    | 1     | -128                     | 127                      |\n",
    "| int16  | 16   | 2     | -32,768                  | 32,767                   |\n",
    "| int32  | 32   | 4     | -2,147,483,648           | 2,147,483,647            |\n",
    "| int64  | 64   | 8     | -9,223,372,036,854,775,808 | 9,223,372,036,854,775,807 |\n",
    "\n",
    "---\n",
    "\n",
    "🔹 **Enteros sin signo (`uint`)**  \n",
    "Estos solo permiten valores positivos, así aprovechan todo el rango en positivo:\n",
    "\n",
    "| Tipo   | Bits | Bytes | Rango mínimo | Rango máximo               |\n",
    "|--------|------|-------|--------------|----------------------------|\n",
    "| uint8  | 8    | 1     | 0            | 255                        |\n",
    "| uint16 | 16   | 2     | 0            | 65,535                     |\n",
    "| uint32 | 32   | 4     | 0            | 4,294,967,295              |\n",
    "| uint64 | 64   | 8     | 0            | 18,446,744,073,709,551,615 |\n",
    "\n",
    "---\n",
    "\n",
    "🔹 **Flotantes (`float`)**  \n",
    "Los flotantes son aproximaciones decimales en coma flotante **IEEE 754**.  \n",
    "No tienen un rango exacto como los enteros (porque dependen de la precisión), pero estos son los valores aproximados:\n",
    "\n",
    "| Tipo      | Bits | Bytes | Precisión (decimales aprox) | Rango aproximado                  |\n",
    "|-----------|------|-------|-----------------------------|-----------------------------------|\n",
    "| float16   | 16   | 2     | ~3–4 dígitos decimales      | ±6.55 × 10⁻⁵ a ±6.55 × 10⁴        |\n",
    "| float32   | 32   | 4     | ~7 dígitos decimales        | ±1.18 × 10⁻³⁸ a ±3.4 × 10³⁸       |\n",
    "| float64   | 64   | 8     | ~15–16 dígitos decimales    | ±2.23 × 10⁻³⁰⁸ a ±1.8 × 10³⁰⁸     |\n",
    "| float128* | 128  | 16    | ~33 dígitos decimales       | ±1.18 × 10⁻⁴⁹³² a ±1.18 × 10⁴⁹³²  |\n",
    "\n",
    "> ⚠️ **Nota:** `float128` no está disponible en todos los sistemas, depende de la arquitectura.\n",
    "\n",
    "---\n",
    "\n",
    "### ejemplo de uso limitando el numero 3 a int8 para que ocupe menos espacio en memoria\n"
   ]
  },
  {
   "cell_type": "code",
   "execution_count": 3,
   "id": "9639569c",
   "metadata": {},
   "outputs": [
    {
     "name": "stdout",
     "output_type": "stream",
     "text": [
      "3\n"
     ]
    }
   ],
   "source": [
    "z = np.array(3, dtype=np.int8) # int8 representa valores entre -128 a 127 \n",
    "print(z)"
   ]
  },
  {
   "cell_type": "code",
   "execution_count": 4,
   "id": "b37949c6",
   "metadata": {},
   "outputs": [
    {
     "name": "stdout",
     "output_type": "stream",
     "text": [
      "[1. 2. 3.]\n"
     ]
    }
   ],
   "source": [
    "double_array = np.array([1,2,3], dtype=np.float64) # 'd' o np.float64 representa un número de punto flotante de doble precisión en este caso cada dato que este dentro del array cambiara a un float64\n",
    "print(double_array)\n",
    "# imprime 1.0 , 2.0 , 3.0 solo que el 0 no aparece porque no hay nesecidad se entiende que hay un 0"
   ]
  },
  {
   "cell_type": "code",
   "execution_count": 5,
   "id": "a1c2d0d7",
   "metadata": {},
   "outputs": [
    {
     "name": "stdout",
     "output_type": "stream",
     "text": [
      "3.0\n"
     ]
    }
   ],
   "source": [
    "z = z.astype(np.float64) # convierte el tipo de dato a float64\n",
    "print(z)"
   ]
  },
  {
   "cell_type": "code",
   "execution_count": 6,
   "id": "20d865de",
   "metadata": {},
   "outputs": [
    {
     "name": "stdout",
     "output_type": "stream",
     "text": [
      "21\n"
     ]
    }
   ],
   "source": [
    "array = np.array([[1,2,3],[4,5,6]])\n",
    "sumar = np.sum(array) # suma todos los elementos del array\n",
    "print(sumar)"
   ]
  },
  {
   "cell_type": "code",
   "execution_count": 7,
   "id": "48bd66a9",
   "metadata": {},
   "outputs": [
    {
     "name": "stdout",
     "output_type": "stream",
     "text": [
      "3.5\n"
     ]
    }
   ],
   "source": [
    "media = np.mean(array) # calcula la media de todos los elementos del array\n",
    "print(media)"
   ]
  },
  {
   "cell_type": "code",
   "execution_count": 8,
   "id": "41181c78",
   "metadata": {},
   "outputs": [
    {
     "name": "stdout",
     "output_type": "stream",
     "text": [
      "1.707825127659933\n"
     ]
    }
   ],
   "source": [
    "desviacion_estandar = np.std(array) # calcula la desviación estándar de todos los elementos del array\n",
    "print(desviacion_estandar)"
   ]
  }
 ],
 "metadata": {
  "kernelspec": {
   "display_name": "ciencia_datos_aplicada",
   "language": "python",
   "name": "python3"
  },
  "language_info": {
   "codemirror_mode": {
    "name": "ipython",
    "version": 3
   },
   "file_extension": ".py",
   "mimetype": "text/x-python",
   "name": "python",
   "nbconvert_exporter": "python",
   "pygments_lexer": "ipython3",
   "version": "3.13.5"
  }
 },
 "nbformat": 4,
 "nbformat_minor": 5
}
