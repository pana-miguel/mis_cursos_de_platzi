{
 "cells": [
  {
   "cell_type": "markdown",
   "id": "39b75b49",
   "metadata": {},
   "source": [
    "### conteo de respuestas unicas\n",
    "en numpy podemos usar codigo para contar la cantidad de respuestas identicas como se aria en una encuesta"
   ]
  },
  {
   "cell_type": "code",
   "execution_count": 3,
   "id": "712970e8",
   "metadata": {},
   "outputs": [],
   "source": [
    "import numpy as np"
   ]
  },
  {
   "cell_type": "code",
   "execution_count": 4,
   "id": "7a89611e",
   "metadata": {},
   "outputs": [
    {
     "name": "stdout",
     "output_type": "stream",
     "text": [
      "['bueno' 'excelente' 'malo' 'regular']\n"
     ]
    }
   ],
   "source": [
    "respuestas = np.array(['bueno', 'regular', 'malo','excelente','malo','malo','malo','excelente','bueno','regular'])\n",
    "\n",
    "print(np.unique(respuestas)) # las diferentes respuestas únicas que hay en el array "
   ]
  },
  {
   "cell_type": "code",
   "execution_count": null,
   "id": "f353b3f3",
   "metadata": {},
   "outputs": [
    {
     "name": "stdout",
     "output_type": "stream",
     "text": [
      "['bueno' 'excelente' 'malo' 'regular']\n",
      "[2 2 4 2]\n",
      "(array(['bueno', 'excelente', 'malo', 'regular'], dtype='<U9'), array([0, 3, 2, 1]), array([2, 2, 4, 2]))\n"
     ]
    }
   ],
   "source": [
    "# se usan dos variables para un mejor orden porque si usamos una sola habran dos arrays en esa sola variable pero asi mostrara las dos de una mejor forma\n",
    "elementos_unicos, cuenta = np.unique(respuestas, return_counts=True) # devuelve una tupla con los elementos unicos y la cantidad de veces que se repite cada uno\n",
    "print(elementos_unicos)\n",
    "print(cuenta)\n",
    "\n",
    "# si solo usamos una variable veremos con en una hay dos arrays por eso arriba se usan dos variable para que en la primera se guarden los valores unicos y en la segunda la cantidad de cada uno \n",
    "ejemplo = np.unique(respuestas, return_counts=True) # devuelve una tupla con los elementos unicos y la cantidad de veces que se repite cada uno\n",
    "print(ejemplo)"
   ]
  },
  {
   "cell_type": "markdown",
   "id": "86011505",
   "metadata": {},
   "source": [
    "### copias y vistas \n",
    "funcionamiento de las vistas "
   ]
  },
  {
   "cell_type": "code",
   "execution_count": null,
   "id": "e1723c29",
   "metadata": {},
   "outputs": [
    {
     "name": "stdout",
     "output_type": "stream",
     "text": [
      "[1 2 3 4 5 6 7 8 9]\n",
      "[2 3]\n",
      "[ 1 10 20  4  5  6  7  8  9]\n",
      "[10 20]\n"
     ]
    }
   ],
   "source": [
    "array_x = np.arange(1,10)\n",
    "vista = array_x[1:3]\n",
    "print(array_x)\n",
    "print(vista)\n",
    "array_x[1:3] = [10,20] # la vista cambia al igual que el array \n",
    "print(array_x)\n",
    "print(vista)"
   ]
  },
  {
   "cell_type": "markdown",
   "id": "e6061cee",
   "metadata": {},
   "source": [
    "creacion de una copia "
   ]
  },
  {
   "cell_type": "code",
   "execution_count": null,
   "id": "f8020f62",
   "metadata": {},
   "outputs": [
    {
     "name": "stdout",
     "output_type": "stream",
     "text": [
      "[1 2 3 4 5 6 7 8 9]\n",
      "[2 3]\n",
      "[ 1 10 20  4  5  6  7  8  9]\n",
      "[2 3]\n"
     ]
    }
   ],
   "source": [
    "array_x = np.arange(1,10)\n",
    "copia = array_x[[1,2]] # crea una copia del array\n",
    "print(array_x)\n",
    "print(copia)\n",
    "array_x[1:3] = [10,20] # la copia no se modifica porque es independiente\n",
    "print(array_x)\n",
    "print(copia)"
   ]
  }
 ],
 "metadata": {
  "kernelspec": {
   "display_name": "ciencia_datos_aplicada",
   "language": "python",
   "name": "python3"
  },
  "language_info": {
   "codemirror_mode": {
    "name": "ipython",
    "version": 3
   },
   "file_extension": ".py",
   "mimetype": "text/x-python",
   "name": "python",
   "nbconvert_exporter": "python",
   "pygments_lexer": "ipython3",
   "version": "3.13.5"
  }
 },
 "nbformat": 4,
 "nbformat_minor": 5
}
